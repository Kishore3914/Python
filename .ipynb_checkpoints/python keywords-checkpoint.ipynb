{
 "cells": [
  {
   "cell_type": "code",
   "execution_count": 3,
   "id": "74dec077",
   "metadata": {},
   "outputs": [],
   "source": [
    "import keyword"
   ]
  },
  {
   "cell_type": "code",
   "execution_count": 8,
   "id": "30c7dbf7",
   "metadata": {},
   "outputs": [],
   "source": [
    "    global k\n",
    "\n",
    "def test(a):\n",
    "\n",
    "    "
   ]
  },
  {
   "cell_type": "code",
   "execution_count": 5,
   "id": "77ecc1b1",
   "metadata": {},
   "outputs": [],
   "source": [
    "test(\"hh\")"
   ]
  },
  {
   "cell_type": "code",
   "execution_count": 6,
   "id": "1ace6c0b",
   "metadata": {},
   "outputs": [
    {
     "data": {
      "text/plain": [
       "'hh global'"
      ]
     },
     "execution_count": 6,
     "metadata": {},
     "output_type": "execute_result"
    }
   ],
   "source": [
    "k"
   ]
  },
  {
   "cell_type": "code",
   "execution_count": 4,
   "id": "a0790771",
   "metadata": {},
   "outputs": [
    {
     "data": {
      "text/plain": [
       "['False',\n",
       " 'None',\n",
       " 'True',\n",
       " '__peg_parser__',\n",
       " 'and',\n",
       " 'as',\n",
       " 'assert',\n",
       " 'async',\n",
       " 'await',\n",
       " 'break',\n",
       " 'class',\n",
       " 'continue',\n",
       " 'def',\n",
       " 'del',\n",
       " 'elif',\n",
       " 'else',\n",
       " 'except',\n",
       " 'finally',\n",
       " 'for',\n",
       " 'from',\n",
       " 'global',\n",
       " 'if',\n",
       " 'import',\n",
       " 'in',\n",
       " 'is',\n",
       " 'lambda',\n",
       " 'nonlocal',\n",
       " 'not',\n",
       " 'or',\n",
       " 'pass',\n",
       " 'raise',\n",
       " 'return',\n",
       " 'try',\n",
       " 'while',\n",
       " 'with',\n",
       " 'yield']"
      ]
     },
     "execution_count": 4,
     "metadata": {},
     "output_type": "execute_result"
    }
   ],
   "source": [
    "keyword.kwlist"
   ]
  },
  {
   "cell_type": "code",
   "execution_count": 5,
   "id": "c42b5807",
   "metadata": {},
   "outputs": [
    {
     "data": {
      "text/plain": [
       "36"
      ]
     },
     "execution_count": 5,
     "metadata": {},
     "output_type": "execute_result"
    }
   ],
   "source": [
    "len(keyword.kwlist)"
   ]
  },
  {
   "cell_type": "code",
   "execution_count": 14,
   "id": "a26cf819",
   "metadata": {
    "scrolled": true
   },
   "outputs": [
    {
     "name": "stdout",
     "output_type": "stream",
     "text": [
      "\n",
      "Here is a list of the Python keywords.  Enter any keyword to get more help.\n",
      "\n",
      "False               break               for                 not\n",
      "None                class               from                or\n",
      "True                continue            global              pass\n",
      "__peg_parser__      def                 if                  raise\n",
      "and                 del                 import              return\n",
      "as                  elif                in                  try\n",
      "assert              else                is                  while\n",
      "async               except              lambda              with\n",
      "await               finally             nonlocal            yield\n",
      "\n"
     ]
    }
   ],
   "source": [
    "help(\"keywords\")"
   ]
  },
  {
   "cell_type": "markdown",
   "id": "4ecb7a48",
   "metadata": {},
   "source": [
    "# value Keywords"
   ]
  },
  {
   "cell_type": "code",
   "execution_count": 9,
   "id": "22308bf5",
   "metadata": {},
   "outputs": [
    {
     "data": {
      "text/plain": [
       "True"
      ]
     },
     "execution_count": 9,
     "metadata": {},
     "output_type": "execute_result"
    }
   ],
   "source": [
    "x = True\n",
    "\n",
    "x is True"
   ]
  },
  {
   "cell_type": "code",
   "execution_count": 10,
   "id": "4b8387ee",
   "metadata": {},
   "outputs": [
    {
     "data": {
      "text/plain": [
       "False"
      ]
     },
     "execution_count": 10,
     "metadata": {},
     "output_type": "execute_result"
    }
   ],
   "source": [
    "x = 'this is truthy'\n",
    "\n",
    "x is True"
   ]
  },
  {
   "cell_type": "code",
   "execution_count": 11,
   "id": "2c4f26d9",
   "metadata": {},
   "outputs": [
    {
     "data": {
      "text/plain": [
       "True"
      ]
     },
     "execution_count": 11,
     "metadata": {},
     "output_type": "execute_result"
    }
   ],
   "source": [
    "bool(x)"
   ]
  },
  {
   "cell_type": "code",
   "execution_count": 12,
   "id": "788c6452",
   "metadata": {},
   "outputs": [
    {
     "data": {
      "text/plain": [
       "True"
      ]
     },
     "execution_count": 12,
     "metadata": {},
     "output_type": "execute_result"
    }
   ],
   "source": [
    "x = False\n",
    "\n",
    "x is False"
   ]
  },
  {
   "cell_type": "code",
   "execution_count": 13,
   "id": "ea905aae",
   "metadata": {},
   "outputs": [
    {
     "data": {
      "text/plain": [
       "False"
      ]
     },
     "execution_count": 13,
     "metadata": {},
     "output_type": "execute_result"
    }
   ],
   "source": [
    "x = ''\n",
    "\n",
    "x is True"
   ]
  },
  {
   "cell_type": "code",
   "execution_count": 14,
   "id": "860901d3",
   "metadata": {},
   "outputs": [
    {
     "data": {
      "text/plain": [
       "False"
      ]
     },
     "execution_count": 14,
     "metadata": {},
     "output_type": "execute_result"
    }
   ],
   "source": [
    "bool(x)"
   ]
  },
  {
   "cell_type": "code",
   "execution_count": 15,
   "id": "401a88bb",
   "metadata": {},
   "outputs": [
    {
     "name": "stdout",
     "output_type": "stream",
     "text": [
      "x is truthy\n"
     ]
    }
   ],
   "source": [
    "x = 'this is truthy value'\n",
    "\n",
    "if x is True:\n",
    "    print(\"x is true\")\n",
    "if x:\n",
    "    print(\"x is truthy\")"
   ]
  },
  {
   "cell_type": "code",
   "execution_count": 17,
   "id": "3d55895a",
   "metadata": {},
   "outputs": [
    {
     "name": "stdout",
     "output_type": "stream",
     "text": [
      "hello\n",
      "None\n"
     ]
    }
   ],
   "source": [
    "def func():\n",
    "    print(\"hello\")\n",
    "    \n",
    "x = func()\n",
    "\n",
    "print(x)"
   ]
  },
  {
   "cell_type": "raw",
   "id": "a7580b9f",
   "metadata": {},
   "source": [
    "None is a keyword represents no value , None is also used as a default value when the function does not have a return statement"
   ]
  },
  {
   "cell_type": "markdown",
   "id": "c76bba12",
   "metadata": {},
   "source": [
    "# Operator Keywords"
   ]
  },
  {
   "cell_type": "code",
   "execution_count": 23,
   "id": "d12296ec",
   "metadata": {},
   "outputs": [
    {
     "data": {
      "text/plain": [
       "True"
      ]
     },
     "execution_count": 23,
     "metadata": {},
     "output_type": "execute_result"
    }
   ],
   "source": [
    "x = 5\n",
    "y = 6\n",
    "\n",
    "(x == 5) and (y == 6)"
   ]
  },
  {
   "cell_type": "code",
   "execution_count": 24,
   "id": "aef5ec81",
   "metadata": {},
   "outputs": [
    {
     "data": {
      "text/plain": [
       "False"
      ]
     },
     "execution_count": 24,
     "metadata": {},
     "output_type": "execute_result"
    }
   ],
   "source": [
    "(x == 5) and (y == 4)"
   ]
  },
  {
   "cell_type": "code",
   "execution_count": 29,
   "id": "2b898eec",
   "metadata": {},
   "outputs": [
    {
     "data": {
      "text/plain": [
       "True"
      ]
     },
     "execution_count": 29,
     "metadata": {},
     "output_type": "execute_result"
    }
   ],
   "source": [
    "(x == 5) if not (x == 5) else (y == 6)"
   ]
  },
  {
   "cell_type": "code",
   "execution_count": 30,
   "id": "f21a5665",
   "metadata": {},
   "outputs": [
    {
     "data": {
      "text/plain": [
       "False"
      ]
     },
     "execution_count": 30,
     "metadata": {},
     "output_type": "execute_result"
    }
   ],
   "source": [
    "(x == 5) if not (x == 5) else (y == 3)"
   ]
  },
  {
   "cell_type": "code",
   "execution_count": 31,
   "id": "873b8ff8",
   "metadata": {},
   "outputs": [
    {
     "data": {
      "text/plain": [
       "True"
      ]
     },
     "execution_count": 31,
     "metadata": {},
     "output_type": "execute_result"
    }
   ],
   "source": [
    "(x == 5) or (y == 4)"
   ]
  },
  {
   "cell_type": "code",
   "execution_count": 32,
   "id": "80508d32",
   "metadata": {},
   "outputs": [
    {
     "data": {
      "text/plain": [
       "True"
      ]
     },
     "execution_count": 32,
     "metadata": {},
     "output_type": "execute_result"
    }
   ],
   "source": [
    "(x == 5) or (y == 6)"
   ]
  },
  {
   "cell_type": "code",
   "execution_count": 33,
   "id": "09530fc8",
   "metadata": {},
   "outputs": [
    {
     "data": {
      "text/plain": [
       "True"
      ]
     },
     "execution_count": 33,
     "metadata": {},
     "output_type": "execute_result"
    }
   ],
   "source": [
    "(x == 5) if (x == 5) else (y == 3)"
   ]
  },
  {
   "cell_type": "code",
   "execution_count": 41,
   "id": "ca4c6b5d",
   "metadata": {},
   "outputs": [
    {
     "data": {
      "text/plain": [
       "False"
      ]
     },
     "execution_count": 41,
     "metadata": {},
     "output_type": "execute_result"
    }
   ],
   "source": [
    "val = ''\n",
    "\n",
    "bool(val)"
   ]
  },
  {
   "cell_type": "code",
   "execution_count": 42,
   "id": "ca98f027",
   "metadata": {},
   "outputs": [
    {
     "data": {
      "text/plain": [
       "True"
      ]
     },
     "execution_count": 42,
     "metadata": {},
     "output_type": "execute_result"
    }
   ],
   "source": [
    "not bool(val)"
   ]
  },
  {
   "cell_type": "code",
   "execution_count": 43,
   "id": "3515a408",
   "metadata": {},
   "outputs": [
    {
     "data": {
      "text/plain": [
       "True"
      ]
     },
     "execution_count": 43,
     "metadata": {},
     "output_type": "execute_result"
    }
   ],
   "source": [
    "True if bool(val) is False else False"
   ]
  },
  {
   "cell_type": "code",
   "execution_count": 44,
   "id": "a836ad22",
   "metadata": {},
   "outputs": [
    {
     "data": {
      "text/plain": [
       "False"
      ]
     },
     "execution_count": 44,
     "metadata": {},
     "output_type": "execute_result"
    }
   ],
   "source": [
    "val = 'Hai'\n",
    "\n",
    "True if bool(val) is False else False"
   ]
  },
  {
   "cell_type": "code",
   "execution_count": 45,
   "id": "b09ce2c0",
   "metadata": {},
   "outputs": [
    {
     "name": "stdout",
     "output_type": "stream",
     "text": [
      "True\n"
     ]
    }
   ],
   "source": [
    "list_ = ['a','b','c']\n",
    "\n",
    "if 'a' in list_:\n",
    "    print(\"True\")\n",
    "else:\n",
    "    print(\"False\")"
   ]
  },
  {
   "cell_type": "code",
   "execution_count": 46,
   "id": "60e14136",
   "metadata": {},
   "outputs": [
    {
     "data": {
      "text/plain": [
       "True"
      ]
     },
     "execution_count": 46,
     "metadata": {},
     "output_type": "execute_result"
    }
   ],
   "source": [
    "name = 'Kishore'\n",
    "\n",
    "'K' in name"
   ]
  },
  {
   "cell_type": "code",
   "execution_count": 47,
   "id": "0dbe8998",
   "metadata": {},
   "outputs": [
    {
     "data": {
      "text/plain": [
       "False"
      ]
     },
     "execution_count": 47,
     "metadata": {},
     "output_type": "execute_result"
    }
   ],
   "source": [
    "'k' in name"
   ]
  },
  {
   "cell_type": "code",
   "execution_count": 48,
   "id": "cea90de4",
   "metadata": {},
   "outputs": [
    {
     "data": {
      "text/plain": [
       "True"
      ]
     },
     "execution_count": 48,
     "metadata": {},
     "output_type": "execute_result"
    }
   ],
   "source": [
    "a = 10\n",
    "b = 10\n",
    "\n",
    "a is b"
   ]
  },
  {
   "cell_type": "code",
   "execution_count": 58,
   "id": "bffaf1a8",
   "metadata": {},
   "outputs": [
    {
     "name": "stdout",
     "output_type": "stream",
     "text": [
      "[1, 2, 3]\n",
      "[1, 2, 3]\n"
     ]
    },
    {
     "data": {
      "text/plain": [
       "False"
      ]
     },
     "execution_count": 58,
     "metadata": {},
     "output_type": "execute_result"
    }
   ],
   "source": [
    "a = [1,2,3]\n",
    "b = a.copy()\n",
    "\n",
    "print(a)\n",
    "\n",
    "print(b)\n",
    "\n",
    "a is b"
   ]
  },
  {
   "cell_type": "code",
   "execution_count": 59,
   "id": "3ef9ac51",
   "metadata": {},
   "outputs": [
    {
     "data": {
      "text/plain": [
       "True"
      ]
     },
     "execution_count": 59,
     "metadata": {},
     "output_type": "execute_result"
    }
   ],
   "source": [
    "a == b"
   ]
  },
  {
   "cell_type": "code",
   "execution_count": 60,
   "id": "7932d7e7",
   "metadata": {},
   "outputs": [
    {
     "data": {
      "text/plain": [
       "139714283541120"
      ]
     },
     "execution_count": 60,
     "metadata": {},
     "output_type": "execute_result"
    }
   ],
   "source": [
    "id (a)"
   ]
  },
  {
   "cell_type": "code",
   "execution_count": 61,
   "id": "9a39d5d7",
   "metadata": {},
   "outputs": [
    {
     "data": {
      "text/plain": [
       "139714283239744"
      ]
     },
     "execution_count": 61,
     "metadata": {},
     "output_type": "execute_result"
    }
   ],
   "source": [
    "id (b)"
   ]
  },
  {
   "cell_type": "markdown",
   "id": "31862f1d",
   "metadata": {},
   "source": [
    "# Flow Control Keywords"
   ]
  },
  {
   "cell_type": "code",
   "execution_count": 62,
   "id": "e7745dd4",
   "metadata": {},
   "outputs": [
    {
     "name": "stdout",
     "output_type": "stream",
     "text": [
      "if block\n"
     ]
    }
   ],
   "source": [
    "a = 10\n",
    "\n",
    "if a == 10:\n",
    "    print(\"if block\")\n",
    "elif a == 9:\n",
    "    print(\"elif block\")\n",
    "else:\n",
    "    print(\"else block\")"
   ]
  },
  {
   "cell_type": "code",
   "execution_count": 63,
   "id": "8a13f1c2",
   "metadata": {},
   "outputs": [
    {
     "name": "stdout",
     "output_type": "stream",
     "text": [
      "elif block\n"
     ]
    }
   ],
   "source": [
    "a = 9\n",
    "\n",
    "if a == 10:\n",
    "    print(\"if block\")\n",
    "elif a == 9:\n",
    "    print(\"elif block\")\n",
    "else:\n",
    "    print(\"else block\")"
   ]
  },
  {
   "cell_type": "code",
   "execution_count": 64,
   "id": "909767a5",
   "metadata": {},
   "outputs": [
    {
     "name": "stdout",
     "output_type": "stream",
     "text": [
      "else block\n"
     ]
    }
   ],
   "source": [
    "a = 1\n",
    "\n",
    "if a == 10:\n",
    "    print(\"if block\")\n",
    "elif a == 9:\n",
    "    print(\"elif block\")\n",
    "else:\n",
    "    print(\"else block\")"
   ]
  },
  {
   "cell_type": "code",
   "execution_count": 70,
   "id": "3781b18b",
   "metadata": {},
   "outputs": [
    {
     "data": {
      "text/plain": [
       "True"
      ]
     },
     "execution_count": 70,
     "metadata": {},
     "output_type": "execute_result"
    }
   ],
   "source": [
    "b = 5\n",
    "var = b == 5 if a == 1 else b == 6\n",
    "\n",
    "var"
   ]
  },
  {
   "cell_type": "code",
   "execution_count": 71,
   "id": "b2a097b0",
   "metadata": {},
   "outputs": [
    {
     "data": {
      "text/plain": [
       "False"
      ]
     },
     "execution_count": 71,
     "metadata": {},
     "output_type": "execute_result"
    }
   ],
   "source": [
    "var = b == 5 if a == 10 else b == 6 # if a == 10 true var = (b == 5) else var = (b == 6)\n",
    "\n",
    "var # here a == 10 false so var = (b == 6) and b == 6 is false so output is False"
   ]
  },
  {
   "cell_type": "markdown",
   "id": "5c11785e",
   "metadata": {},
   "source": [
    "# Iteration Keywords"
   ]
  },
  {
   "cell_type": "code",
   "execution_count": 75,
   "id": "245f4881",
   "metadata": {},
   "outputs": [
    {
     "name": "stdout",
     "output_type": "stream",
     "text": [
      "1\n",
      "2\n"
     ]
    }
   ],
   "source": [
    "for i in range(1,3):\n",
    "    print(i)"
   ]
  },
  {
   "cell_type": "code",
   "execution_count": 77,
   "id": "432772b6",
   "metadata": {},
   "outputs": [
    {
     "name": "stdout",
     "output_type": "stream",
     "text": [
      "a\n",
      "b\n",
      "c\n"
     ]
    }
   ],
   "source": [
    "list_ = ['a','b','c']\n",
    "\n",
    "for each in list_:\n",
    "    print(each)"
   ]
  },
  {
   "cell_type": "code",
   "execution_count": 78,
   "id": "bde13789",
   "metadata": {},
   "outputs": [
    {
     "name": "stdout",
     "output_type": "stream",
     "text": [
      "1 --> a\n",
      "2 --> b\n",
      "3 --> c\n"
     ]
    }
   ],
   "source": [
    "Dict = {1:'a', 2:'b', 3:'c'}\n",
    "\n",
    "for key in Dict:\n",
    "    print(key, '-->', Dict[key])"
   ]
  },
  {
   "cell_type": "code",
   "execution_count": 79,
   "id": "41088e12",
   "metadata": {},
   "outputs": [
    {
     "name": "stdout",
     "output_type": "stream",
     "text": [
      "a in list\n",
      "b in list\n",
      "c in list\n"
     ]
    }
   ],
   "source": [
    "for each in list_:\n",
    "    print(f\"{each} in list\")"
   ]
  },
  {
   "cell_type": "code",
   "execution_count": 83,
   "id": "54aa21e0",
   "metadata": {},
   "outputs": [
    {
     "name": "stdout",
     "output_type": "stream",
     "text": [
      "0\n",
      "1\n",
      "2\n",
      "3\n",
      "4\n"
     ]
    }
   ],
   "source": [
    "i = 0\n",
    "\n",
    "while True:\n",
    "    print(i)\n",
    "    i += 1\n",
    "    if(i == 5):\n",
    "        break"
   ]
  },
  {
   "cell_type": "code",
   "execution_count": 86,
   "id": "3af24176",
   "metadata": {},
   "outputs": [
    {
     "name": "stdout",
     "output_type": "stream",
     "text": [
      "1\n",
      "2\n",
      "3\n",
      "4\n",
      "5\n",
      "\n",
      "6\n",
      "\n"
     ]
    }
   ],
   "source": [
    "list_ = [1,2,3,4,5,'a',6,'c']\n",
    "\n",
    "for each in list_:\n",
    "    if isinstance(each,int):\n",
    "        print(each)\n",
    "    else:\n",
    "        print()\n",
    "        continue"
   ]
  },
  {
   "cell_type": "code",
   "execution_count": 87,
   "id": "36be37f8",
   "metadata": {},
   "outputs": [
    {
     "name": "stdout",
     "output_type": "stream",
     "text": [
      "Empty Dictionary\n"
     ]
    }
   ],
   "source": [
    "Dict={}\n",
    "\n",
    "for key in Dict:\n",
    "    print(\"Elements presents\")\n",
    "else:\n",
    "    print(\"Empty Dictionary\")"
   ]
  },
  {
   "cell_type": "code",
   "execution_count": 88,
   "id": "3fbcd6f6",
   "metadata": {},
   "outputs": [
    {
     "name": "stdout",
     "output_type": "stream",
     "text": [
      "Empty Dictionary\n"
     ]
    }
   ],
   "source": [
    "while Dict:\n",
    "    print(\"Elements presents\")\n",
    "else:\n",
    "    print(\"Empty Dictionary\")"
   ]
  },
  {
   "cell_type": "code",
   "execution_count": 89,
   "id": "ff480783",
   "metadata": {},
   "outputs": [
    {
     "name": "stdout",
     "output_type": "stream",
     "text": [
      "2 is prime\n",
      "3 is prime\n",
      "4 is not prime\n",
      "5 is prime\n",
      "6 is not prime\n",
      "7 is prime\n",
      "8 is not prime\n",
      "9 is not prime\n"
     ]
    }
   ],
   "source": [
    "for i in range(2,10):\n",
    "    prime = True\n",
    "    for j in range(2,i):\n",
    "        if i % j == 0:\n",
    "            prime = False\n",
    "            print(f\"{i} is not prime\")\n",
    "            break\n",
    "    if prime:\n",
    "        print(f\"{i} is prime\")"
   ]
  },
  {
   "cell_type": "code",
   "execution_count": 95,
   "id": "180d0245",
   "metadata": {},
   "outputs": [
    {
     "name": "stdout",
     "output_type": "stream",
     "text": [
      "2 is prime\n",
      "3 is prime\n",
      "4 is not prime\n",
      "5 is prime\n",
      "6 is not prime\n",
      "7 is prime\n",
      "8 is not prime\n",
      "9 is not prime\n"
     ]
    }
   ],
   "source": [
    "for i in range(2,10):\n",
    "    for j in range(2,i):\n",
    "        if i % j == 0:\n",
    "            print(f\"{i} is not prime\")\n",
    "            break\n",
    "    else:\n",
    "        print(f\"{i} is prime\")"
   ]
  },
  {
   "cell_type": "markdown",
   "id": "ee8257a2",
   "metadata": {},
   "source": [
    "# Structure Keywords"
   ]
  },
  {
   "cell_type": "code",
   "execution_count": 91,
   "id": "2e0e816e",
   "metadata": {},
   "outputs": [
    {
     "name": "stdout",
     "output_type": "stream",
     "text": [
      "0\n"
     ]
    }
   ],
   "source": [
    "def function(): # function without arguments\n",
    "    return 0\n",
    "\n",
    "x = function()\n",
    "\n",
    "print(x)"
   ]
  },
  {
   "cell_type": "code",
   "execution_count": 105,
   "id": "cb9186f7",
   "metadata": {},
   "outputs": [
    {
     "name": "stdout",
     "output_type": "stream",
     "text": [
      "6\n"
     ]
    }
   ],
   "source": [
    "def function(a):# function with arguments\n",
    "    return a + 1\n",
    "\n",
    "x = function(5)\n",
    "\n",
    "print(x)"
   ]
  },
  {
   "cell_type": "code",
   "execution_count": 106,
   "id": "428bd96c",
   "metadata": {},
   "outputs": [
    {
     "name": "stdout",
     "output_type": "stream",
     "text": [
      "7\n"
     ]
    }
   ],
   "source": [
    "def function2(b): #nested function calls\n",
    "    return b + 1\n",
    "\n",
    "def function(a):\n",
    "    c = function2(a)\n",
    "    return c + 1\n",
    "\n",
    "x = function(5)\n",
    "\n",
    "print(x)"
   ]
  },
  {
   "cell_type": "raw",
   "id": "e9b6142c",
   "metadata": {},
   "source": [
    "call by value (when immutable values are passed to function)"
   ]
  },
  {
   "cell_type": "code",
   "execution_count": 107,
   "id": "b5cf95db",
   "metadata": {},
   "outputs": [
    {
     "name": "stdout",
     "output_type": "stream",
     "text": [
      "5 --> Before passing to function\n",
      "6 --> inside function\n",
      "5 --> After passing to function\n"
     ]
    }
   ],
   "source": [
    "def function(x):\n",
    "    x = x + 1\n",
    "    print(x, \"--> inside function\")\n",
    "\n",
    "x = 5\n",
    "\n",
    "print(x, \"--> Before passing to function\")\n",
    "\n",
    "function(x)\n",
    "\n",
    "print(x, \"--> After passing to function\")"
   ]
  },
  {
   "cell_type": "code",
   "execution_count": 108,
   "id": "be6db6aa",
   "metadata": {},
   "outputs": [
    {
     "name": "stdout",
     "output_type": "stream",
     "text": [
      "kishore --> Before passing to function\n",
      "Ram --> inside function\n",
      "kishore --> After passing to function\n"
     ]
    }
   ],
   "source": [
    "def function(x): # immutable objects are passed to function\n",
    "    x = 'Ram'\n",
    "    print(x, \"--> inside function\")\n",
    "\n",
    "x = \"kishore\"\n",
    "\n",
    "print(x, \"--> Before passing to function\")\n",
    "\n",
    "function(x)\n",
    "\n",
    "print(x, \"--> After passing to function\")"
   ]
  },
  {
   "cell_type": "raw",
   "id": "52644137",
   "metadata": {},
   "source": [
    "Call by reference (when mutable values are passed to function)"
   ]
  },
  {
   "cell_type": "code",
   "execution_count": 110,
   "id": "8f5707fc",
   "metadata": {},
   "outputs": [
    {
     "name": "stdout",
     "output_type": "stream",
     "text": [
      "['Hai', 'How', 'Are', 'You'] --> Before passing to function\n",
      "['Hello', 'How', 'Are', 'You'] --> inside function\n",
      "['Hello', 'How', 'Are', 'You'] --> After passing to function\n"
     ]
    }
   ],
   "source": [
    "def function(x): # mutable objects(list) are passed to function\n",
    "    x[0] = 'Hello'\n",
    "    print(x, \"--> inside function\")\n",
    "\n",
    "x = ['Hai','How','Are','You']\n",
    "\n",
    "print(x, \"--> Before passing to function\")\n",
    "\n",
    "function(x)\n",
    "\n",
    "print(x, \"--> After passing to function\")"
   ]
  },
  {
   "cell_type": "code",
   "execution_count": 112,
   "id": "3d59f018",
   "metadata": {},
   "outputs": [
    {
     "name": "stdout",
     "output_type": "stream",
     "text": [
      "{1: 'hai', 2: 'hello'} --> Before passing to function\n",
      "{1: 'hello', 2: 'hello'} --> inside function\n",
      "{1: 'hello', 2: 'hello'} --> After passing to function\n"
     ]
    }
   ],
   "source": [
    "def function(x): # mutable objects(dictionary) are passed to function\n",
    "    x[1] = 'hello'\n",
    "    print(x, \"--> inside function\")\n",
    "\n",
    "x = {1:'hai',2:'hello'}\n",
    "\n",
    "print(x, \"--> Before passing to function\")\n",
    "\n",
    "function(x)\n",
    "\n",
    "print(x, \"--> After passing to function\")"
   ]
  },
  {
   "cell_type": "code",
   "execution_count": 117,
   "id": "70d69ec5",
   "metadata": {},
   "outputs": [
    {
     "name": "stdout",
     "output_type": "stream",
     "text": [
      "15\n"
     ]
    }
   ],
   "source": [
    "class Mathematical_operations():\n",
    "    \n",
    "    def Addition(self, arg1, arg2):\n",
    "        return arg1 + arg2\n",
    "    \n",
    "    def Subtract(self, arg1, arg2):\n",
    "        return arg1 - arg2\n",
    "    \n",
    "    def Multiplication(self, arg1, arg2):\n",
    "        return arg1 * arg2\n",
    "    \n",
    "class Myclass(Mathematical_operations):\n",
    "    \n",
    "    def Add_Two_Num(self, a, b):\n",
    "        return self.Addition(a, b)\n",
    "\n",
    "a = 10\n",
    "b = 5\n",
    "\n",
    "p1 = Myclass()\n",
    "\n",
    "val = p1.Add_Two_Num(a, b)\n",
    "\n",
    "print(val)"
   ]
  },
  {
   "cell_type": "code",
   "execution_count": 1,
   "id": "5ae10373",
   "metadata": {},
   "outputs": [
    {
     "name": "stdout",
     "output_type": "stream",
     "text": [
      "Kishore\n",
      "Pranesh\n",
      "Roshan\n",
      "Arun\n",
      "Kishore kumar\n"
     ]
    }
   ],
   "source": [
    "with open(\"names_keywords.txt\") as input_:\n",
    "    for name in input_:\n",
    "        print(name.strip())"
   ]
  },
  {
   "cell_type": "raw",
   "id": "67c228c6",
   "metadata": {},
   "source": [
    "The file I/O context manager provided by open() and initiated with the with keyword and opens the file for reading and assings the open file pointer to input_  \n",
    "Then executes whatever the code specifies in with block are executed and after execution the input_ (open file pointer) closes even if your code in with block raises any exception, the file pointer would still close"
   ]
  },
  {
   "cell_type": "code",
   "execution_count": 122,
   "id": "2dc1db48",
   "metadata": {},
   "outputs": [
    {
     "ename": "ValueError",
     "evalue": "I/O operation on closed file.",
     "output_type": "error",
     "traceback": [
      "\u001b[0;31m---------------------------------------------------------------------------\u001b[0m",
      "\u001b[0;31mValueError\u001b[0m                                Traceback (most recent call last)",
      "Input \u001b[0;32mIn [122]\u001b[0m, in \u001b[0;36m<cell line: 1>\u001b[0;34m()\u001b[0m\n\u001b[0;32m----> 1\u001b[0m \u001b[38;5;28;01mfor\u001b[39;00m name \u001b[38;5;129;01min\u001b[39;00m input_:\n\u001b[1;32m      2\u001b[0m         \u001b[38;5;28mprint\u001b[39m(name\u001b[38;5;241m.\u001b[39mstrip())\n",
      "\u001b[0;31mValueError\u001b[0m: I/O operation on closed file."
     ]
    }
   ],
   "source": [
    "for name in input_:\n",
    "        print(name.strip())"
   ]
  },
  {
   "cell_type": "raw",
   "id": "950dc0f9",
   "metadata": {},
   "source": [
    "beacuase the input_ (file pointer) is closed"
   ]
  },
  {
   "cell_type": "code",
   "execution_count": 123,
   "id": "9309f8b0",
   "metadata": {},
   "outputs": [],
   "source": [
    "import pandas as pd"
   ]
  },
  {
   "cell_type": "raw",
   "id": "a66663a5",
   "metadata": {},
   "source": [
    "as keyword is used with (with , import, exceptions like keywords) for used to alias, here alias for padas as pd"
   ]
  },
  {
   "cell_type": "code",
   "execution_count": 124,
   "id": "1ca267f7",
   "metadata": {},
   "outputs": [],
   "source": [
    "def myfunction():\n",
    "    pass\n",
    "class myclass():\n",
    "    pass\n",
    "if True:\n",
    "    pass"
   ]
  },
  {
   "cell_type": "raw",
   "id": "a55203d2",
   "metadata": {},
   "source": [
    "pass keyword is used to specify that is intentionally left blank, it is equivalent for no-operation"
   ]
  },
  {
   "cell_type": "code",
   "execution_count": 128,
   "id": "9c035ac0",
   "metadata": {},
   "outputs": [
    {
     "name": "stdout",
     "output_type": "stream",
     "text": [
      "11\n"
     ]
    }
   ],
   "source": [
    "func = lambda x: x + 1\n",
    "\n",
    "print(func(10))"
   ]
  },
  {
   "cell_type": "raw",
   "id": "94d0ed49",
   "metadata": {},
   "source": [
    "the lambda keyword is used to define a function that doesnt have name and have only one statement , the results of which are returned "
   ]
  },
  {
   "cell_type": "code",
   "execution_count": 131,
   "id": "09914b4d",
   "metadata": {},
   "outputs": [
    {
     "data": {
      "text/plain": [
       "['L1', 'L10', 'L15', 'L18', 'L2', 'L3', 'L4']"
      ]
     },
     "execution_count": 131,
     "metadata": {},
     "output_type": "execute_result"
    }
   ],
   "source": [
    "SeatNo = ['L1','L2','L10','L3','L15','L4','L18']\n",
    "sorted(SeatNo)"
   ]
  },
  {
   "cell_type": "code",
   "execution_count": 133,
   "id": "5e64558f",
   "metadata": {},
   "outputs": [
    {
     "data": {
      "text/plain": [
       "['L1', 'L2', 'L3', 'L4', 'L10', 'L15', 'L18']"
      ]
     },
     "execution_count": 133,
     "metadata": {},
     "output_type": "execute_result"
    }
   ],
   "source": [
    "SeatNo = ['L1','L2','L10','L3','L15','L4','L18']\n",
    "\n",
    "sorted(SeatNo, key = lambda x: int(x[1:]))"
   ]
  },
  {
   "cell_type": "markdown",
   "id": "cacf4ef6",
   "metadata": {},
   "source": [
    "# Return Keywords (return, yield)"
   ]
  },
  {
   "cell_type": "raw",
   "id": "00fc54e1",
   "metadata": {},
   "source": [
    "return keyword is valid only when the part of function defined with def. when the function encountered with return keyword, it will exit the function at that point and return the results"
   ]
  },
  {
   "cell_type": "code",
   "execution_count": 134,
   "id": "726ef441",
   "metadata": {},
   "outputs": [
    {
     "data": {
      "text/plain": [
       "5"
      ]
     },
     "execution_count": 134,
     "metadata": {},
     "output_type": "execute_result"
    }
   ],
   "source": [
    "def function(a):\n",
    "    if a == 5:\n",
    "        return a\n",
    "    print(\"Function not returned\") # not worked when the if condition is true and function returns\n",
    "\n",
    "function(5)"
   ]
  },
  {
   "cell_type": "raw",
   "id": "d559ac96",
   "metadata": {},
   "source": [
    "function returns None by default when the return function is not given"
   ]
  },
  {
   "cell_type": "code",
   "execution_count": 137,
   "id": "0cf05e13",
   "metadata": {},
   "outputs": [
    {
     "name": "stdout",
     "output_type": "stream",
     "text": [
      "None\n"
     ]
    }
   ],
   "source": [
    "def function(a):\n",
    "    pass\n",
    "print(function(5))"
   ]
  },
  {
   "cell_type": "raw",
   "id": "da20340a",
   "metadata": {},
   "source": [
    "python yield keyword is like a return keyword, however the function has yield keyword,it returns a generator object and then the returned generated object is passed to python inbuild function called next() to get value returned from function"
   ]
  },
  {
   "cell_type": "code",
   "execution_count": 157,
   "id": "0e69e526",
   "metadata": {
    "scrolled": true
   },
   "outputs": [
    {
     "name": "stdout",
     "output_type": "stream",
     "text": [
      "1\n",
      "2\n",
      "3\n",
      "4\n",
      "5\n"
     ]
    }
   ],
   "source": [
    "def function():\n",
    "    for i in range(1,6):\n",
    "        yield i\n",
    "\n",
    "names = function()\n",
    "for each in function():\n",
    "    print(next(names))\n"
   ]
  },
  {
   "cell_type": "markdown",
   "id": "75184333",
   "metadata": {},
   "source": [
    "# Import Keywords"
   ]
  },
  {
   "cell_type": "raw",
   "id": "d9b1179c",
   "metadata": {},
   "source": [
    "python import keyword is used to import or inclue a module for use in your python program "
   ]
  },
  {
   "cell_type": "code",
   "execution_count": 160,
   "id": "d3c24389",
   "metadata": {},
   "outputs": [],
   "source": [
    "import flask as f"
   ]
  },
  {
   "cell_type": "raw",
   "id": "4013bf48",
   "metadata": {},
   "source": [
    "after executing above line module flask is available to use in your program with the alias name f this alias name is given by using as keyword"
   ]
  },
  {
   "cell_type": "code",
   "execution_count": 161,
   "id": "d053a8e9",
   "metadata": {},
   "outputs": [],
   "source": [
    "from flask import session"
   ]
  },
  {
   "cell_type": "raw",
   "id": "08d60cd5",
   "metadata": {},
   "source": [
    "from keyword is used along with the import keyword this keyword is used for import a specific thing in a module.\n",
    "in the above example session is imported from flask but one thing importing session class like this makes the session class available but other class will not be available from flask module"
   ]
  },
  {
   "cell_type": "markdown",
   "id": "0fd6738d",
   "metadata": {},
   "source": [
    "# Exception Handling Keywords"
   ]
  },
  {
   "cell_type": "raw",
   "id": "5ab809e9",
   "metadata": {},
   "source": [
    "normally we have divided a statements in code by two one is normal statements that never throw a exception and another one is critical statement this statement might throws an error so that we put it in the try block"
   ]
  },
  {
   "cell_type": "code",
   "execution_count": 174,
   "id": "715e4854",
   "metadata": {
    "scrolled": true
   },
   "outputs": [
    {
     "name": "stdout",
     "output_type": "stream",
     "text": [
      "ZeroDivisionError Catched\n"
     ]
    }
   ],
   "source": [
    "a = 10\n",
    "b = 0\n",
    "\n",
    "try:\n",
    "    a/b\n",
    "except Exception:\n",
    "    print(\"ZeroDivisionError Catched\")"
   ]
  },
  {
   "cell_type": "raw",
   "id": "4775d0ca",
   "metadata": {},
   "source": [
    "here i put a/b in try beacuase i know it causes ZeroDivisionError and we have to catch that error in except block , we can also catch specific type of exception"
   ]
  },
  {
   "cell_type": "code",
   "execution_count": 188,
   "id": "c327029c",
   "metadata": {
    "scrolled": true
   },
   "outputs": [
    {
     "name": "stdout",
     "output_type": "stream",
     "text": [
      "unsupported operand type(s) for /: 'int' and 'str' Catched\n"
     ]
    }
   ],
   "source": [
    "a = 10\n",
    "b = 'hai'\n",
    "\n",
    "try:\n",
    "    print(a/b)\n",
    "except ZeroDivisionError:\n",
    "    print(\"ZeroDivisionError Catched\")\n",
    "except Exception as e:\n",
    "    print(f\"{e} Catched\")"
   ]
  },
  {
   "cell_type": "code",
   "execution_count": 192,
   "id": "9f04ef22",
   "metadata": {},
   "outputs": [
    {
     "name": "stdout",
     "output_type": "stream",
     "text": [
      "open\n",
      "2.0\n",
      "close\n"
     ]
    }
   ],
   "source": [
    "a = 10\n",
    "b = 5\n",
    "\n",
    "try:\n",
    "    print(\"open\")\n",
    "    print(a/b)\n",
    "    print(\"close\")\n",
    "except Exception:\n",
    "    print(\"ZeroDivisionError Catched\")"
   ]
  },
  {
   "cell_type": "code",
   "execution_count": 193,
   "id": "64674ec0",
   "metadata": {},
   "outputs": [
    {
     "name": "stdout",
     "output_type": "stream",
     "text": [
      "open\n",
      "ZeroDivisionError Catched\n"
     ]
    }
   ],
   "source": [
    "a = 10\n",
    "b = 0\n",
    "\n",
    "try:\n",
    "    print(\"open\")\n",
    "    print(a/b)\n",
    "    print(\"close\")\n",
    "except Exception:\n",
    "    print(\"ZeroDivisionError Catched\")"
   ]
  },
  {
   "cell_type": "code",
   "execution_count": 195,
   "id": "050a35e6",
   "metadata": {},
   "outputs": [
    {
     "name": "stdout",
     "output_type": "stream",
     "text": [
      "open\n",
      "ZeroDivisionError Catched\n",
      "close\n"
     ]
    }
   ],
   "source": [
    "a = 10\n",
    "b = 0\n",
    "\n",
    "try:\n",
    "    print(\"open\")\n",
    "    print(a/b)\n",
    "except Exception:\n",
    "    print(\"ZeroDivisionError Catched\")\n",
    "    print(\"close\")"
   ]
  },
  {
   "cell_type": "code",
   "execution_count": 196,
   "id": "39a33c5d",
   "metadata": {},
   "outputs": [
    {
     "name": "stdout",
     "output_type": "stream",
     "text": [
      "open\n",
      "3.3333333333333335\n"
     ]
    }
   ],
   "source": [
    "a = 10\n",
    "b = 3\n",
    "\n",
    "try:\n",
    "    print(\"open\")\n",
    "    print(a/b)\n",
    "except Exception:\n",
    "    print(\"ZeroDivisionError Catched\")\n",
    "    print(\"close\")"
   ]
  },
  {
   "cell_type": "raw",
   "id": "1343f658",
   "metadata": {},
   "source": [
    "in the above when we are open any thing(db connection) in the try block and we need to close it but where can we do that if it is close in try block then there any exception occurs then it wont close and if it is close in except block then there no exception occurs then it wont close so that python have a finally block"
   ]
  },
  {
   "cell_type": "code",
   "execution_count": 197,
   "id": "f762466e",
   "metadata": {},
   "outputs": [
    {
     "name": "stdout",
     "output_type": "stream",
     "text": [
      "open\n",
      "3.3333333333333335\n",
      "close\n"
     ]
    }
   ],
   "source": [
    "a = 10\n",
    "b = 3\n",
    "\n",
    "try:\n",
    "    print(\"open\")\n",
    "    print(a/b)\n",
    "except Exception:\n",
    "    print(\"ZeroDivisionError Catched\")\n",
    "finally:\n",
    "    print(\"close\")"
   ]
  },
  {
   "cell_type": "code",
   "execution_count": 198,
   "id": "9721edbf",
   "metadata": {},
   "outputs": [
    {
     "name": "stdout",
     "output_type": "stream",
     "text": [
      "open\n",
      "ZeroDivisionError Catched\n",
      "close\n"
     ]
    }
   ],
   "source": [
    "a = 10\n",
    "b = 0\n",
    "\n",
    "try:\n",
    "    print(\"open\")\n",
    "    print(a/b)\n",
    "except Exception:\n",
    "    print(\"ZeroDivisionError Catched\")\n",
    "finally:\n",
    "    print(\"close\")"
   ]
  },
  {
   "cell_type": "raw",
   "id": "6da420c5",
   "metadata": {},
   "source": [
    "when the exception occuring or not finally block executed , so if anything open in try block we can close it finally block"
   ]
  },
  {
   "cell_type": "code",
   "execution_count": 206,
   "id": "97aeb24e",
   "metadata": {},
   "outputs": [
    {
     "name": "stdout",
     "output_type": "stream",
     "text": [
      "open\n",
      "enter divident10\n",
      "enter divisorp\n",
      "invaild input\n",
      "close\n"
     ]
    }
   ],
   "source": [
    "try:\n",
    "    print(\"open\")\n",
    "    a = int(input(\"enter divident\"))\n",
    "    b = int(input(\"enter divisor\"))\n",
    "    print(a/b)\n",
    "    \n",
    "except ZeroDivisionError as z:\n",
    "    print(\"you cant divide a number by zero\")\n",
    "    \n",
    "except ValueError as v:\n",
    "    print(\"invaild input\")\n",
    "    \n",
    "except Exception as e:\n",
    "    print(f\"{e} Catched\")\n",
    "    \n",
    "finally:\n",
    "    print(\"close\")"
   ]
  },
  {
   "cell_type": "code",
   "execution_count": 207,
   "id": "433eef9b",
   "metadata": {},
   "outputs": [
    {
     "name": "stdout",
     "output_type": "stream",
     "text": [
      "open\n",
      "enter divident10\n",
      "enter divisor5\n",
      "2.0\n",
      "close\n"
     ]
    }
   ],
   "source": [
    "try:\n",
    "    print(\"open\")\n",
    "    a = int(input(\"enter divident\"))\n",
    "    b = int(input(\"enter divisor\"))\n",
    "    a/b\n",
    "    \n",
    "except ZeroDivisionError as z:\n",
    "    print(\"you cant divide a number by zero\")\n",
    "    \n",
    "except ValueError as v:\n",
    "    print(\"invaild input\")\n",
    "    \n",
    "except Exception as e:\n",
    "    print(f\"{e} Catched\")\n",
    "\n",
    "else:\n",
    "    print(a/b)\n",
    "    \n",
    "finally:\n",
    "    print(\"close\")"
   ]
  },
  {
   "cell_type": "code",
   "execution_count": 10,
   "id": "cf47e85c",
   "metadata": {},
   "outputs": [
    {
     "name": "stdout",
     "output_type": "stream",
     "text": [
      "List Containing Elements\n"
     ]
    }
   ],
   "source": [
    "list_ = [1, 2]\n",
    "\n",
    "try:\n",
    "    assert list_\n",
    "\n",
    "except AssertionError as A :\n",
    "    print(\"AssertionError Catched\")\n",
    "\n",
    "else:\n",
    "    print(\"List Containing Elements\")"
   ]
  },
  {
   "cell_type": "code",
   "execution_count": 7,
   "id": "1d32a65d",
   "metadata": {},
   "outputs": [
    {
     "ename": "AssertionError",
     "evalue": "List Should contain elements",
     "output_type": "error",
     "traceback": [
      "\u001b[0;31m---------------------------------------------------------------------------\u001b[0m",
      "\u001b[0;31mAssertionError\u001b[0m                            Traceback (most recent call last)",
      "Input \u001b[0;32mIn [7]\u001b[0m, in \u001b[0;36m<cell line: 5>\u001b[0;34m()\u001b[0m\n\u001b[1;32m      2\u001b[0m list2 \u001b[38;5;241m=\u001b[39m []\n\u001b[1;32m      4\u001b[0m \u001b[38;5;28;01massert\u001b[39;00m list1 , \u001b[38;5;124m\"\u001b[39m\u001b[38;5;124mList Should contain elements\u001b[39m\u001b[38;5;124m\"\u001b[39m\n\u001b[0;32m----> 5\u001b[0m \u001b[38;5;28;01massert\u001b[39;00m list2 , \u001b[38;5;124m\"\u001b[39m\u001b[38;5;124mList Should contain elements\u001b[39m\u001b[38;5;124m\"\u001b[39m\n",
      "\u001b[0;31mAssertionError\u001b[0m: List Should contain elements"
     ]
    }
   ],
   "source": [
    "list1 = [1,2]\n",
    "list2 = []\n",
    "\n",
    "assert list1 , \"List Should contain elements\"\n",
    "assert list2 , \"List Should contain elements\""
   ]
  },
  {
   "cell_type": "code",
   "execution_count": 8,
   "id": "e3fb74a7",
   "metadata": {},
   "outputs": [
    {
     "name": "stdout",
     "output_type": "stream",
     "text": [
      "AssertionError Catched\n",
      "empty List\n"
     ]
    }
   ],
   "source": [
    "list_ = []\n",
    "\n",
    "try:\n",
    "    assert list_\n",
    "\n",
    "except AssertionError as A :\n",
    "    print(\"AssertionError Catched\")\n",
    "    print(\"empty List\")\n",
    "\n",
    "else:\n",
    "    print(\"List Containing Elements\")"
   ]
  },
  {
   "cell_type": "raw",
   "id": "414089e2",
   "metadata": {},
   "source": [
    "assert keyword will do nothing when the statement is truthy and raise AssertionError when the expression is falsy"
   ]
  },
  {
   "cell_type": "markdown",
   "id": "aa279692",
   "metadata": {},
   "source": [
    "# Custom Exception"
   ]
  },
  {
   "cell_type": "code",
   "execution_count": 4,
   "id": "5ae8c1ec",
   "metadata": {},
   "outputs": [
    {
     "name": "stdout",
     "output_type": "stream",
     "text": [
      "Enter Your 12th Mark out of 600300\n",
      "your mark is below 400\n"
     ]
    }
   ],
   "source": [
    "class UnderMarkException(Exception):\n",
    "    pass\n",
    "\n",
    "class OverMarkException(Exception):\n",
    "    pass\n",
    "\n",
    "Mark = int(input(\"Enter Your 12th Mark out of 600\"))\n",
    "\n",
    "try:\n",
    "    if Mark < 400:\n",
    "        raise UnderMarkException\n",
    "    elif Mark >500:\n",
    "        raise OverMarkException\n",
    "    elif 400 <= Mark <= 500:\n",
    "        pass\n",
    "    \n",
    "except UnderMarkException:\n",
    "    print(\"your mark is below 400\")\n",
    "\n",
    "except OverMarkException:\n",
    "    print(\"your mark is above 500\")\n",
    "\n",
    "else:\n",
    "    print(\"your mark is vaild to write the entrance\")"
   ]
  },
  {
   "cell_type": "markdown",
   "id": "61283b8d",
   "metadata": {},
   "source": [
    "# Variable Handling Keywords"
   ]
  },
  {
   "cell_type": "code",
   "execution_count": 20,
   "id": "62fbeac2",
   "metadata": {},
   "outputs": [
    {
     "data": {
      "text/plain": [
       "[1, 2, 3]"
      ]
     },
     "execution_count": 20,
     "metadata": {},
     "output_type": "execute_result"
    }
   ],
   "source": [
    "list_ = [1,2,3]\n",
    "\n",
    "list_"
   ]
  },
  {
   "cell_type": "code",
   "execution_count": 21,
   "id": "39d233f3",
   "metadata": {},
   "outputs": [
    {
     "data": {
      "text/plain": [
       "[1, 3]"
      ]
     },
     "execution_count": 21,
     "metadata": {},
     "output_type": "execute_result"
    }
   ],
   "source": [
    "del list_[1]\n",
    "\n",
    "list_"
   ]
  },
  {
   "cell_type": "code",
   "execution_count": 37,
   "id": "fe06c1c3",
   "metadata": {},
   "outputs": [
    {
     "name": "stdout",
     "output_type": "stream",
     "text": [
      "5\n"
     ]
    },
    {
     "ename": "NameError",
     "evalue": "name 'a' is not defined",
     "output_type": "error",
     "traceback": [
      "\u001b[0;31m---------------------------------------------------------------------------\u001b[0m",
      "\u001b[0;31mNameError\u001b[0m                                 Traceback (most recent call last)",
      "Input \u001b[0;32mIn [37]\u001b[0m, in \u001b[0;36m<cell line: 7>\u001b[0;34m()\u001b[0m\n\u001b[1;32m      3\u001b[0m \u001b[38;5;28mprint\u001b[39m(a)\n\u001b[1;32m      5\u001b[0m \u001b[38;5;28;01mdel\u001b[39;00m a\n\u001b[0;32m----> 7\u001b[0m \u001b[38;5;28mprint\u001b[39m(\u001b[43ma\u001b[49m)\n",
      "\u001b[0;31mNameError\u001b[0m: name 'a' is not defined"
     ]
    }
   ],
   "source": [
    "a = 5\n",
    "\n",
    "print(a)\n",
    "\n",
    "del a\n",
    "\n",
    "print(a)"
   ]
  },
  {
   "cell_type": "raw",
   "id": "32885632",
   "metadata": {},
   "source": [
    "del is used in Python to unset a variable or name. You can use it on variable names, but a more common use is to remove indexes from a list or dictionary."
   ]
  },
  {
   "cell_type": "code",
   "execution_count": 35,
   "id": "7b616a33",
   "metadata": {},
   "outputs": [
    {
     "ename": "UnboundLocalError",
     "evalue": "local variable 'val' referenced before assignment",
     "output_type": "error",
     "traceback": [
      "\u001b[0;31m---------------------------------------------------------------------------\u001b[0m",
      "\u001b[0;31mUnboundLocalError\u001b[0m                         Traceback (most recent call last)",
      "Input \u001b[0;32mIn [35]\u001b[0m, in \u001b[0;36m<cell line: 4>\u001b[0;34m()\u001b[0m\n\u001b[1;32m      2\u001b[0m \u001b[38;5;28;01mdef\u001b[39;00m \u001b[38;5;21mfunc\u001b[39m():\n\u001b[1;32m      3\u001b[0m     val \u001b[38;5;241m+\u001b[39m\u001b[38;5;241m=\u001b[39m \u001b[38;5;241m1\u001b[39m   \n\u001b[0;32m----> 4\u001b[0m \u001b[43mfunc\u001b[49m\u001b[43m(\u001b[49m\u001b[43m)\u001b[49m\n\u001b[1;32m      5\u001b[0m \u001b[38;5;28mprint\u001b[39m(val)\n",
      "Input \u001b[0;32mIn [35]\u001b[0m, in \u001b[0;36mfunc\u001b[0;34m()\u001b[0m\n\u001b[1;32m      2\u001b[0m \u001b[38;5;28;01mdef\u001b[39;00m \u001b[38;5;21mfunc\u001b[39m():\n\u001b[0;32m----> 3\u001b[0m     val \u001b[38;5;241m+\u001b[39m\u001b[38;5;241m=\u001b[39m \u001b[38;5;241m1\u001b[39m\n",
      "\u001b[0;31mUnboundLocalError\u001b[0m: local variable 'val' referenced before assignment"
     ]
    }
   ],
   "source": [
    "val = 5 \n",
    "def func():\n",
    "    val += 1   \n",
    "func()\n",
    "print(val)"
   ]
  },
  {
   "cell_type": "code",
   "execution_count": 36,
   "id": "f26596ee",
   "metadata": {},
   "outputs": [
    {
     "name": "stdout",
     "output_type": "stream",
     "text": [
      "6\n",
      "7\n"
     ]
    }
   ],
   "source": [
    "val = 5\n",
    "def func():\n",
    "    global val\n",
    "    val += 1\n",
    "\n",
    "func()\n",
    "print(val)\n",
    "\n",
    "func()\n",
    "print(val)"
   ]
  },
  {
   "cell_type": "raw",
   "id": "5a595789",
   "metadata": {},
   "source": [
    "if you need to modify a variable that isn't defined inside a function and it is defined in global scope then you need to specify the variable name with global keyword"
   ]
  },
  {
   "cell_type": "code",
   "execution_count": 40,
   "id": "8c3d20dc",
   "metadata": {},
   "outputs": [
    {
     "name": "stdout",
     "output_type": "stream",
     "text": [
      "value before assigning nonlocal :  5\n",
      "value after assigning nonlocal :  6\n"
     ]
    }
   ],
   "source": [
    "def function1():\n",
    "    value = 5\n",
    "    print(\"value before assigning nonlocal : \",value)\n",
    "    def function2():\n",
    "        nonlocal value\n",
    "        value += 1\n",
    "    function2()\n",
    "    print(\"value after assigning nonlocal : \",value)\n",
    "\n",
    "function1()"
   ]
  },
  {
   "cell_type": "raw",
   "id": "fbaf0d24",
   "metadata": {},
   "source": [
    "nonlocal keyword is used to work with nested functions the variable value define in function1 is used in function2 by the nonlocal keyword"
   ]
  },
  {
   "cell_type": "code",
   "execution_count": 43,
   "id": "167a4755",
   "metadata": {},
   "outputs": [
    {
     "name": "stdout",
     "output_type": "stream",
     "text": [
      "(0, 'a')\n",
      "(1, 'b')\n",
      "(2, 'c')\n",
      "(3, 'd')\n",
      "(4, 'e')\n",
      "(5, 'f')\n",
      "\n",
      "(0, 'K')\n",
      "(1, 'i')\n",
      "(2, 's')\n",
      "(3, 'h')\n",
      "(4, 'o')\n",
      "(5, 'r')\n",
      "(6, 'e')\n"
     ]
    }
   ],
   "source": [
    "l1 = ['a','b','c','d','e','f']\n",
    "s = \"Kishore\"\n",
    "\n",
    "for ele in enumerate(l1):\n",
    "    print(ele)\n",
    "print()\n",
    "for ele in enumerate(s):\n",
    "    print(ele)"
   ]
  },
  {
   "cell_type": "code",
   "execution_count": 44,
   "id": "6cfd1659",
   "metadata": {},
   "outputs": [
    {
     "name": "stdout",
     "output_type": "stream",
     "text": [
      "10 --> a\n",
      "11 --> b\n",
      "12 --> c\n",
      "13 --> d\n",
      "14 --> e\n",
      "15 --> f\n",
      "\n",
      "50 --> K\n",
      "51 --> i\n",
      "52 --> s\n",
      "53 --> h\n",
      "54 --> o\n",
      "55 --> r\n",
      "56 --> e\n"
     ]
    }
   ],
   "source": [
    "for count ,ele in enumerate(l1,10):\n",
    "    print(count, '-->', ele)\n",
    "print()\n",
    "for count, ele in enumerate(s,50):\n",
    "    print(count ,'-->', ele)"
   ]
  },
  {
   "cell_type": "raw",
   "id": "21571bc6",
   "metadata": {},
   "source": [
    "we are dealing with iterators,so we need to keep count of iterations ,python have a build-in function called enumerate this method adds a counter to a iterable and returns as a enumerating object \n",
    "this enumerating object used directly in loops or converting into list of tuples by using list() method"
   ]
  },
  {
   "cell_type": "code",
   "execution_count": null,
   "id": "4626e08c",
   "metadata": {},
   "outputs": [],
   "source": [
    "def "
   ]
  }
 ],
 "metadata": {
  "kernelspec": {
   "display_name": "Python 3 (ipykernel)",
   "language": "python",
   "name": "python3"
  },
  "language_info": {
   "codemirror_mode": {
    "name": "ipython",
    "version": 3
   },
   "file_extension": ".py",
   "mimetype": "text/x-python",
   "name": "python",
   "nbconvert_exporter": "python",
   "pygments_lexer": "ipython3",
   "version": "3.9.12"
  }
 },
 "nbformat": 4,
 "nbformat_minor": 5
}
